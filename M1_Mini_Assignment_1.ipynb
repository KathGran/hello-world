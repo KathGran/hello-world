{
  "nbformat": 4,
  "nbformat_minor": 0,
  "metadata": {
    "colab": {
      "name": "M1 Mini-Assignment 1.ipynb",
      "version": "0.3.2",
      "provenance": []
    },
    "kernelspec": {
      "name": "python3",
      "display_name": "Python 3"
    }
  },
  "cells": [
    {
      "cell_type": "markdown",
      "metadata": {
        "id": "F1TOYiN7DSQC",
        "colab_type": "text"
      },
      "source": [
        "# M1 Mini-Assignment 1\n",
        "https://app.slack.com/client/TM1M8EXC4/CM49Y2M4N\n",
        "\n",
        "https://colab.research.google.com/drive/1q2v-bwfdq5zknJfYHijN1M54PUAUStJH"
      ]
    },
    {
      "cell_type": "markdown",
      "metadata": {
        "id": "T-xGw25nDc8K",
        "colab_type": "text"
      },
      "source": [
        "## 1. Preprocessing"
      ]
    },
    {
      "cell_type": "code",
      "metadata": {
        "id": "9rBNOJTYDHoT",
        "colab_type": "code",
        "colab": {}
      },
      "source": [
        "import pandas as pd"
      ],
      "execution_count": 0,
      "outputs": []
    },
    {
      "cell_type": "code",
      "metadata": {
        "id": "cLv5JZPwDwRy",
        "colab_type": "code",
        "colab": {}
      },
      "source": [
        "trips = pd.read_csv('https://github.com/SDS-AAU/M1-2019/raw/master/data/trips.csv', parse_dates=True)"
      ],
      "execution_count": 0,
      "outputs": []
    },
    {
      "cell_type": "markdown",
      "metadata": {
        "id": "-ktqUKpyicM7",
        "colab_type": "text"
      },
      "source": [
        "### Timestamps"
      ]
    },
    {
      "cell_type": "code",
      "metadata": {
        "id": "WjJUn6ryjSk2",
        "colab_type": "code",
        "colab": {}
      },
      "source": [
        "#trips['date_start'] = pd.to_datetime(trips['date_start'], format = '%Y-%m-%d')\n",
        "#trips['date_end'] = pd.to_datetime(trips['date_end'], format = '%Y-%m-%d')\n",
        "\n",
        "#This results in an error."
      ],
      "execution_count": 0,
      "outputs": []
    },
    {
      "cell_type": "code",
      "metadata": {
        "id": "YyhlGFbpbwDw",
        "colab_type": "code",
        "colab": {}
      },
      "source": [
        "trips['date_start'] = pd.to_datetime(trips['date_start'], errors='coerce')\n",
        "trips['date_end'] = pd.to_datetime(trips['date_end'], errors='coerce')  \n",
        "#I convert date_start and date_end to timestamps."
      ],
      "execution_count": 0,
      "outputs": []
    },
    {
      "cell_type": "code",
      "metadata": {
        "id": "V33b678ZFeuo",
        "colab_type": "code",
        "outputId": "852f0f49-f21f-4903-b569-116c5b133a66",
        "colab": {
          "base_uri": "https://localhost:8080/",
          "height": 363
        }
      },
      "source": [
        "trips.sort_values(by=['date_start']).head(10)\n",
        "#Looks good."
      ],
      "execution_count": 86,
      "outputs": [
        {
          "output_type": "execute_result",
          "data": {
            "text/html": [
              "<div>\n",
              "<style scoped>\n",
              "    .dataframe tbody tr th:only-of-type {\n",
              "        vertical-align: middle;\n",
              "    }\n",
              "\n",
              "    .dataframe tbody tr th {\n",
              "        vertical-align: top;\n",
              "    }\n",
              "\n",
              "    .dataframe thead th {\n",
              "        text-align: right;\n",
              "    }\n",
              "</style>\n",
              "<table border=\"1\" class=\"dataframe\">\n",
              "  <thead>\n",
              "    <tr style=\"text-align: right;\">\n",
              "      <th></th>\n",
              "      <th>Unnamed: 0</th>\n",
              "      <th>username</th>\n",
              "      <th>country</th>\n",
              "      <th>country_code</th>\n",
              "      <th>country_slug</th>\n",
              "      <th>date_end</th>\n",
              "      <th>date_start</th>\n",
              "      <th>latitude</th>\n",
              "      <th>longitude</th>\n",
              "      <th>place</th>\n",
              "      <th>place_slug</th>\n",
              "    </tr>\n",
              "  </thead>\n",
              "  <tbody>\n",
              "    <tr>\n",
              "      <th>6669</th>\n",
              "      <td>6669</td>\n",
              "      <td>@diniska</td>\n",
              "      <td>Russia</td>\n",
              "      <td>RU</td>\n",
              "      <td>russia</td>\n",
              "      <td>2015-11-01</td>\n",
              "      <td>1970-01-01</td>\n",
              "      <td>55</td>\n",
              "      <td>37</td>\n",
              "      <td>Moscow</td>\n",
              "      <td>moscow-russia</td>\n",
              "    </tr>\n",
              "    <tr>\n",
              "      <th>45580</th>\n",
              "      <td>45580</td>\n",
              "      <td>@fubchris</td>\n",
              "      <td>Canada</td>\n",
              "      <td>CA</td>\n",
              "      <td>canada</td>\n",
              "      <td>1981-02-01</td>\n",
              "      <td>1975-01-03</td>\n",
              "      <td>45</td>\n",
              "      <td>-75</td>\n",
              "      <td>Ottawa</td>\n",
              "      <td>ottawa-canada</td>\n",
              "    </tr>\n",
              "    <tr>\n",
              "      <th>45581</th>\n",
              "      <td>45581</td>\n",
              "      <td>@fubchris</td>\n",
              "      <td>Netherlands</td>\n",
              "      <td>NL</td>\n",
              "      <td>netherlands</td>\n",
              "      <td>1975-01-03</td>\n",
              "      <td>1975-01-03</td>\n",
              "      <td>52</td>\n",
              "      <td>4</td>\n",
              "      <td>Amsterdam</td>\n",
              "      <td>amsterdam-netherlands</td>\n",
              "    </tr>\n",
              "    <tr>\n",
              "      <th>31726</th>\n",
              "      <td>31726</td>\n",
              "      <td>@benjturner</td>\n",
              "      <td>United States</td>\n",
              "      <td>US</td>\n",
              "      <td>united-states</td>\n",
              "      <td>1993-07-03</td>\n",
              "      <td>1977-03-14</td>\n",
              "      <td>32</td>\n",
              "      <td>-95</td>\n",
              "      <td>Tyler</td>\n",
              "      <td>united-states</td>\n",
              "    </tr>\n",
              "    <tr>\n",
              "      <th>40968</th>\n",
              "      <td>40968</td>\n",
              "      <td>@allan</td>\n",
              "      <td>Canada</td>\n",
              "      <td>CA</td>\n",
              "      <td>canada</td>\n",
              "      <td>1979-07-02</td>\n",
              "      <td>1978-06-02</td>\n",
              "      <td>51</td>\n",
              "      <td>-85</td>\n",
              "      <td>Ontario</td>\n",
              "      <td>canada</td>\n",
              "    </tr>\n",
              "    <tr>\n",
              "      <th>40967</th>\n",
              "      <td>40967</td>\n",
              "      <td>@allan</td>\n",
              "      <td>United States</td>\n",
              "      <td>US</td>\n",
              "      <td>united-states</td>\n",
              "      <td>1979-07-05</td>\n",
              "      <td>1979-07-02</td>\n",
              "      <td>42</td>\n",
              "      <td>-78</td>\n",
              "      <td>Buffalo</td>\n",
              "      <td>buffalo-ny-united-states</td>\n",
              "    </tr>\n",
              "    <tr>\n",
              "      <th>40966</th>\n",
              "      <td>40966</td>\n",
              "      <td>@allan</td>\n",
              "      <td>Canada</td>\n",
              "      <td>CA</td>\n",
              "      <td>canada</td>\n",
              "      <td>1981-07-12</td>\n",
              "      <td>1979-07-05</td>\n",
              "      <td>51</td>\n",
              "      <td>-85</td>\n",
              "      <td>Ontario</td>\n",
              "      <td>canada</td>\n",
              "    </tr>\n",
              "    <tr>\n",
              "      <th>45538</th>\n",
              "      <td>45538</td>\n",
              "      <td>@thomasghenry</td>\n",
              "      <td>United States</td>\n",
              "      <td>US</td>\n",
              "      <td>united-states</td>\n",
              "      <td>1984-01-01</td>\n",
              "      <td>1981-07-08</td>\n",
              "      <td>40</td>\n",
              "      <td>-73</td>\n",
              "      <td>Queens</td>\n",
              "      <td>united-states</td>\n",
              "    </tr>\n",
              "    <tr>\n",
              "      <th>40965</th>\n",
              "      <td>40965</td>\n",
              "      <td>@allan</td>\n",
              "      <td>United States</td>\n",
              "      <td>US</td>\n",
              "      <td>united-states</td>\n",
              "      <td>1981-07-26</td>\n",
              "      <td>1981-07-12</td>\n",
              "      <td>25</td>\n",
              "      <td>-80</td>\n",
              "      <td>Miami</td>\n",
              "      <td>miami-fl-united-states</td>\n",
              "    </tr>\n",
              "    <tr>\n",
              "      <th>40964</th>\n",
              "      <td>40964</td>\n",
              "      <td>@allan</td>\n",
              "      <td>Canada</td>\n",
              "      <td>CA</td>\n",
              "      <td>canada</td>\n",
              "      <td>1981-12-12</td>\n",
              "      <td>1981-07-26</td>\n",
              "      <td>51</td>\n",
              "      <td>-85</td>\n",
              "      <td>Ontario</td>\n",
              "      <td>canada</td>\n",
              "    </tr>\n",
              "  </tbody>\n",
              "</table>\n",
              "</div>"
            ],
            "text/plain": [
              "       Unnamed: 0       username  ...      place                place_slug\n",
              "6669         6669       @diniska  ...     Moscow             moscow-russia\n",
              "45580       45580      @fubchris  ...     Ottawa             ottawa-canada\n",
              "45581       45581      @fubchris  ...  Amsterdam     amsterdam-netherlands\n",
              "31726       31726    @benjturner  ...      Tyler             united-states\n",
              "40968       40968         @allan  ...    Ontario                    canada\n",
              "40967       40967         @allan  ...    Buffalo  buffalo-ny-united-states\n",
              "40966       40966         @allan  ...    Ontario                    canada\n",
              "45538       45538  @thomasghenry  ...     Queens             united-states\n",
              "40965       40965         @allan  ...      Miami    miami-fl-united-states\n",
              "40964       40964         @allan  ...    Ontario                    canada\n",
              "\n",
              "[10 rows x 11 columns]"
            ]
          },
          "metadata": {
            "tags": []
          },
          "execution_count": 86
        }
      ]
    },
    {
      "cell_type": "code",
      "metadata": {
        "id": "hxsgHYVdVeI0",
        "colab_type": "code",
        "outputId": "556f915d-3453-4f3c-c11d-4123ff1828ca",
        "colab": {
          "base_uri": "https://localhost:8080/",
          "height": 764
        }
      },
      "source": [
        "trips.sort_values(by=['date_start']).tail(20)\n",
        "#Here some dates are way out in the future, this does not seem rigth. I will come back to this.\n",
        "#Also we have a lot of NaT's."
      ],
      "execution_count": 87,
      "outputs": [
        {
          "output_type": "execute_result",
          "data": {
            "text/html": [
              "<div>\n",
              "<style scoped>\n",
              "    .dataframe tbody tr th:only-of-type {\n",
              "        vertical-align: middle;\n",
              "    }\n",
              "\n",
              "    .dataframe tbody tr th {\n",
              "        vertical-align: top;\n",
              "    }\n",
              "\n",
              "    .dataframe thead th {\n",
              "        text-align: right;\n",
              "    }\n",
              "</style>\n",
              "<table border=\"1\" class=\"dataframe\">\n",
              "  <thead>\n",
              "    <tr style=\"text-align: right;\">\n",
              "      <th></th>\n",
              "      <th>Unnamed: 0</th>\n",
              "      <th>username</th>\n",
              "      <th>country</th>\n",
              "      <th>country_code</th>\n",
              "      <th>country_slug</th>\n",
              "      <th>date_end</th>\n",
              "      <th>date_start</th>\n",
              "      <th>latitude</th>\n",
              "      <th>longitude</th>\n",
              "      <th>place</th>\n",
              "      <th>place_slug</th>\n",
              "    </tr>\n",
              "  </thead>\n",
              "  <tbody>\n",
              "    <tr>\n",
              "      <th>27402</th>\n",
              "      <td>27402</td>\n",
              "      <td>@levelsio</td>\n",
              "      <td>United States</td>\n",
              "      <td>US</td>\n",
              "      <td>united-states</td>\n",
              "      <td>2034-06-01</td>\n",
              "      <td>2034-06-01</td>\n",
              "      <td>28</td>\n",
              "      <td>-80</td>\n",
              "      <td>Cape Canaveral</td>\n",
              "      <td>united-states</td>\n",
              "    </tr>\n",
              "    <tr>\n",
              "      <th>21136</th>\n",
              "      <td>21136</td>\n",
              "      <td>@meedamian</td>\n",
              "      <td>Mars</td>\n",
              "      <td>MARS</td>\n",
              "      <td>mars</td>\n",
              "      <td>2035-12-09</td>\n",
              "      <td>2034-12-09</td>\n",
              "      <td>28</td>\n",
              "      <td>-80</td>\n",
              "      <td>Mars City</td>\n",
              "      <td>mars-city-mars</td>\n",
              "    </tr>\n",
              "    <tr>\n",
              "      <th>27401</th>\n",
              "      <td>27401</td>\n",
              "      <td>@levelsio</td>\n",
              "      <td>Mars</td>\n",
              "      <td>MARS</td>\n",
              "      <td>mars</td>\n",
              "      <td>2036-01-01</td>\n",
              "      <td>2035-01-01</td>\n",
              "      <td>28</td>\n",
              "      <td>-80</td>\n",
              "      <td>Mars City</td>\n",
              "      <td>mars-city-mars</td>\n",
              "    </tr>\n",
              "    <tr>\n",
              "      <th>27400</th>\n",
              "      <td>27400</td>\n",
              "      <td>@levelsio</td>\n",
              "      <td>United States</td>\n",
              "      <td>US</td>\n",
              "      <td>united-states</td>\n",
              "      <td>2036-01-02</td>\n",
              "      <td>2036-01-02</td>\n",
              "      <td>28</td>\n",
              "      <td>-80</td>\n",
              "      <td>Cape Canaveral</td>\n",
              "      <td>united-states</td>\n",
              "    </tr>\n",
              "    <tr>\n",
              "      <th>21135</th>\n",
              "      <td>21135</td>\n",
              "      <td>@meedamian</td>\n",
              "      <td>United States</td>\n",
              "      <td>US</td>\n",
              "      <td>united-states</td>\n",
              "      <td>2037-06-09</td>\n",
              "      <td>2036-06-09</td>\n",
              "      <td>28</td>\n",
              "      <td>-80</td>\n",
              "      <td>Cape Canaveral</td>\n",
              "      <td>united-states</td>\n",
              "    </tr>\n",
              "    <tr>\n",
              "      <th>16193</th>\n",
              "      <td>16193</td>\n",
              "      <td>@jonnylroberts</td>\n",
              "      <td>Indonesia</td>\n",
              "      <td>ID</td>\n",
              "      <td>indonesia</td>\n",
              "      <td>2104-04-16</td>\n",
              "      <td>2104-04-01</td>\n",
              "      <td>-8</td>\n",
              "      <td>115</td>\n",
              "      <td>Sanur</td>\n",
              "      <td>indonesia</td>\n",
              "    </tr>\n",
              "    <tr>\n",
              "      <th>16192</th>\n",
              "      <td>16192</td>\n",
              "      <td>@jonnylroberts</td>\n",
              "      <td>Australia</td>\n",
              "      <td>AU</td>\n",
              "      <td>australia</td>\n",
              "      <td>2106-03-21</td>\n",
              "      <td>2106-03-18</td>\n",
              "      <td>-33</td>\n",
              "      <td>151</td>\n",
              "      <td>Sydney</td>\n",
              "      <td>sydney-australia</td>\n",
              "    </tr>\n",
              "    <tr>\n",
              "      <th>16191</th>\n",
              "      <td>16191</td>\n",
              "      <td>@jonnylroberts</td>\n",
              "      <td>Indonesia</td>\n",
              "      <td>ID</td>\n",
              "      <td>indonesia</td>\n",
              "      <td>2106-06-03</td>\n",
              "      <td>2106-05-25</td>\n",
              "      <td>-8</td>\n",
              "      <td>115</td>\n",
              "      <td>Ubud</td>\n",
              "      <td>ubud-bali-indonesia</td>\n",
              "    </tr>\n",
              "    <tr>\n",
              "      <th>16190</th>\n",
              "      <td>16190</td>\n",
              "      <td>@jonnylroberts</td>\n",
              "      <td>Indonesia</td>\n",
              "      <td>ID</td>\n",
              "      <td>indonesia</td>\n",
              "      <td>2106-06-30</td>\n",
              "      <td>2106-06-19</td>\n",
              "      <td>-8</td>\n",
              "      <td>116</td>\n",
              "      <td>Lombok</td>\n",
              "      <td>indonesia</td>\n",
              "    </tr>\n",
              "    <tr>\n",
              "      <th>4366</th>\n",
              "      <td>4366</td>\n",
              "      <td>@hjbarraza</td>\n",
              "      <td>Belgium</td>\n",
              "      <td>BE</td>\n",
              "      <td>belgium</td>\n",
              "      <td>2012-11-08</td>\n",
              "      <td>NaT</td>\n",
              "      <td>50</td>\n",
              "      <td>3</td>\n",
              "      <td>Kortrijk</td>\n",
              "      <td>belgium</td>\n",
              "    </tr>\n",
              "    <tr>\n",
              "      <th>8719</th>\n",
              "      <td>8719</td>\n",
              "      <td>@tolicious</td>\n",
              "      <td>Germany</td>\n",
              "      <td>DE</td>\n",
              "      <td>germany</td>\n",
              "      <td>2015-02-13</td>\n",
              "      <td>NaT</td>\n",
              "      <td>52</td>\n",
              "      <td>13</td>\n",
              "      <td>Berlin</td>\n",
              "      <td>berlin-germany</td>\n",
              "    </tr>\n",
              "    <tr>\n",
              "      <th>13036</th>\n",
              "      <td>13036</td>\n",
              "      <td>@reboramuriel</td>\n",
              "      <td>Argentina</td>\n",
              "      <td>AR</td>\n",
              "      <td>argentina</td>\n",
              "      <td>2005-08-10</td>\n",
              "      <td>NaT</td>\n",
              "      <td>-34</td>\n",
              "      <td>-58</td>\n",
              "      <td>Buenos Aires</td>\n",
              "      <td>buenos-aires-argentina</td>\n",
              "    </tr>\n",
              "    <tr>\n",
              "      <th>14584</th>\n",
              "      <td>14584</td>\n",
              "      <td>@eulerianial</td>\n",
              "      <td>Singapore</td>\n",
              "      <td>SG</td>\n",
              "      <td>singapore</td>\n",
              "      <td>2014-02-01</td>\n",
              "      <td>NaT</td>\n",
              "      <td>1</td>\n",
              "      <td>103</td>\n",
              "      <td>Singapore</td>\n",
              "      <td>singapore-singapore</td>\n",
              "    </tr>\n",
              "    <tr>\n",
              "      <th>16112</th>\n",
              "      <td>16112</td>\n",
              "      <td>@adamnowek</td>\n",
              "      <td>United Kingdom</td>\n",
              "      <td>UK</td>\n",
              "      <td>united-kingdom</td>\n",
              "      <td>2006-01-15</td>\n",
              "      <td>NaT</td>\n",
              "      <td>51</td>\n",
              "      <td>0</td>\n",
              "      <td>London</td>\n",
              "      <td>london-united-kingdom</td>\n",
              "    </tr>\n",
              "    <tr>\n",
              "      <th>24781</th>\n",
              "      <td>24781</td>\n",
              "      <td>@okokstefan_</td>\n",
              "      <td>Austria</td>\n",
              "      <td>AT</td>\n",
              "      <td>austria</td>\n",
              "      <td>2018-06-01</td>\n",
              "      <td>NaT</td>\n",
              "      <td>47</td>\n",
              "      <td>11</td>\n",
              "      <td>Innsbruck</td>\n",
              "      <td>innsbruck-austria</td>\n",
              "    </tr>\n",
              "    <tr>\n",
              "      <th>26625</th>\n",
              "      <td>26625</td>\n",
              "      <td>@sergiosa_la</td>\n",
              "      <td>Cambodia</td>\n",
              "      <td>KH</td>\n",
              "      <td>cambodia</td>\n",
              "      <td>2016-03-20</td>\n",
              "      <td>NaT</td>\n",
              "      <td>10</td>\n",
              "      <td>103</td>\n",
              "      <td>Krong Preah Sihanouk</td>\n",
              "      <td>cambodia</td>\n",
              "    </tr>\n",
              "    <tr>\n",
              "      <th>36307</th>\n",
              "      <td>36307</td>\n",
              "      <td>@barbaralicious</td>\n",
              "      <td>France</td>\n",
              "      <td>FR</td>\n",
              "      <td>france</td>\n",
              "      <td>NaT</td>\n",
              "      <td>NaT</td>\n",
              "      <td>48</td>\n",
              "      <td>2</td>\n",
              "      <td>Paris</td>\n",
              "      <td>paris-france</td>\n",
              "    </tr>\n",
              "    <tr>\n",
              "      <th>36825</th>\n",
              "      <td>36825</td>\n",
              "      <td>@chris4gen</td>\n",
              "      <td>Dominican Republic</td>\n",
              "      <td>DO</td>\n",
              "      <td>dominican-republic</td>\n",
              "      <td>2008-06-14</td>\n",
              "      <td>NaT</td>\n",
              "      <td>18</td>\n",
              "      <td>-69</td>\n",
              "      <td>Santo Domingo</td>\n",
              "      <td>santo-domingo-dominican-republic</td>\n",
              "    </tr>\n",
              "    <tr>\n",
              "      <th>43893</th>\n",
              "      <td>43893</td>\n",
              "      <td>@monkeyinsf</td>\n",
              "      <td>Netherlands</td>\n",
              "      <td>NL</td>\n",
              "      <td>netherlands</td>\n",
              "      <td>2017-09-29</td>\n",
              "      <td>NaT</td>\n",
              "      <td>52</td>\n",
              "      <td>4</td>\n",
              "      <td>Amsterdam</td>\n",
              "      <td>amsterdam-netherlands</td>\n",
              "    </tr>\n",
              "    <tr>\n",
              "      <th>44085</th>\n",
              "      <td>44085</td>\n",
              "      <td>@micksalas</td>\n",
              "      <td>Philippines</td>\n",
              "      <td>PH</td>\n",
              "      <td>philippines</td>\n",
              "      <td>2017-03-03</td>\n",
              "      <td>NaT</td>\n",
              "      <td>9</td>\n",
              "      <td>124</td>\n",
              "      <td>Bohol</td>\n",
              "      <td>philippines</td>\n",
              "    </tr>\n",
              "  </tbody>\n",
              "</table>\n",
              "</div>"
            ],
            "text/plain": [
              "       Unnamed: 0  ...                        place_slug\n",
              "27402       27402  ...                     united-states\n",
              "21136       21136  ...                    mars-city-mars\n",
              "27401       27401  ...                    mars-city-mars\n",
              "27400       27400  ...                     united-states\n",
              "21135       21135  ...                     united-states\n",
              "16193       16193  ...                         indonesia\n",
              "16192       16192  ...                  sydney-australia\n",
              "16191       16191  ...               ubud-bali-indonesia\n",
              "16190       16190  ...                         indonesia\n",
              "4366         4366  ...                           belgium\n",
              "8719         8719  ...                    berlin-germany\n",
              "13036       13036  ...            buenos-aires-argentina\n",
              "14584       14584  ...               singapore-singapore\n",
              "16112       16112  ...             london-united-kingdom\n",
              "24781       24781  ...                 innsbruck-austria\n",
              "26625       26625  ...                          cambodia\n",
              "36307       36307  ...                      paris-france\n",
              "36825       36825  ...  santo-domingo-dominican-republic\n",
              "43893       43893  ...             amsterdam-netherlands\n",
              "44085       44085  ...                       philippines\n",
              "\n",
              "[20 rows x 11 columns]"
            ]
          },
          "metadata": {
            "tags": []
          },
          "execution_count": 87
        }
      ]
    },
    {
      "cell_type": "code",
      "metadata": {
        "id": "-QcdA45tcj4r",
        "colab_type": "code",
        "colab": {}
      },
      "source": [
        "trips=trips.dropna()\n",
        "#We drop NaT's."
      ],
      "execution_count": 0,
      "outputs": []
    },
    {
      "cell_type": "markdown",
      "metadata": {
        "id": "-5whRRixEyEb",
        "colab_type": "text"
      },
      "source": [
        "### Duration"
      ]
    },
    {
      "cell_type": "code",
      "metadata": {
        "id": "yOhIUQy7E6qT",
        "colab_type": "code",
        "colab": {}
      },
      "source": [
        "import datetime"
      ],
      "execution_count": 0,
      "outputs": []
    },
    {
      "cell_type": "code",
      "metadata": {
        "id": "1_ilt4ZUFHsG",
        "colab_type": "code",
        "colab": {}
      },
      "source": [
        "trips['duration'] = trips['date_end']-trips['date_start']\n",
        "trips['duration'] = trips.apply(lambda x: x['duration'].days, axis=1) #Makes duration an int."
      ],
      "execution_count": 0,
      "outputs": []
    },
    {
      "cell_type": "markdown",
      "metadata": {
        "id": "Dehv3dx3HHF8",
        "colab_type": "text"
      },
      "source": [
        "### Filter dates and durations"
      ]
    },
    {
      "cell_type": "code",
      "metadata": {
        "id": "yw5ALOx5H3-N",
        "colab_type": "code",
        "colab": {}
      },
      "source": [
        "#Here I want to remove trips that has a start date in 2020 or further out in the future, which I commented on earlier.\n",
        "not_future = trips['date_start'].dt.year<2020\n",
        "trips = trips[not_future]\n",
        "#I thought about dropping rows with dates_end in the future, but I don't know if the dataset includes trips booked in the near future or ongoing trips, so I keept thoose."
      ],
      "execution_count": 0,
      "outputs": []
    },
    {
      "cell_type": "code",
      "metadata": {
        "id": "hwFHAnZOJJu2",
        "colab_type": "code",
        "outputId": "35f6b7af-7268-457d-ddb2-ce9713d343e3",
        "colab": {
          "base_uri": "https://localhost:8080/",
          "height": 54
        }
      },
      "source": [
        "trips.sort_values(by=['duration']).head(10) #.tail(10)\n",
        "#In the head there is a trip with negative duration as well as trips with a duration of 0 days, so I delete them. \n",
        "#The tail showed LOOONG trips, so I drop trips longer than 10 years.\n",
        "more_than_0_days = trips['duration']>0\n",
        "less_than_10_years = trips['duration']<3650\n",
        "trips = trips[more_than_0_days]\n",
        "trips = trips[less_than_10_years]"
      ],
      "execution_count": 92,
      "outputs": [
        {
          "output_type": "stream",
          "text": [
            "/usr/local/lib/python3.6/dist-packages/ipykernel_launcher.py:7: UserWarning: Boolean Series key will be reindexed to match DataFrame index.\n",
            "  import sys\n"
          ],
          "name": "stderr"
        }
      ]
    },
    {
      "cell_type": "markdown",
      "metadata": {
        "id": "orXXYhApX504",
        "colab_type": "text"
      },
      "source": [
        "### Countrylist"
      ]
    },
    {
      "cell_type": "code",
      "metadata": {
        "id": "Vj5KVjg5XsVV",
        "colab_type": "code",
        "colab": {}
      },
      "source": [
        "countrylist = pd.read_csv('https://github.com/SDS-AAU/M1-2019/raw/master/data/countrylist.csv', parse_dates=True)\n",
        "trips=pd.merge(trips, countrylist, left_on='country_code', right_on='alpha_2', how='inner')"
      ],
      "execution_count": 0,
      "outputs": []
    },
    {
      "cell_type": "markdown",
      "metadata": {
        "id": "SsAwRe69bvAh",
        "colab_type": "text"
      },
      "source": [
        "### DateTime index"
      ]
    },
    {
      "cell_type": "code",
      "metadata": {
        "id": "rqsexjcVbzKH",
        "colab_type": "code",
        "colab": {}
      },
      "source": [
        "trips_with_index=trips.set_index('date_start') \n",
        "# I liked it better with date_start as a seperate collum, so I did not use this dataframe in the rest of the assignment."
      ],
      "execution_count": 0,
      "outputs": []
    },
    {
      "cell_type": "markdown",
      "metadata": {
        "id": "a2aDTKeOe2jJ",
        "colab_type": "text"
      },
      "source": [
        "## 2. People"
      ]
    },
    {
      "cell_type": "markdown",
      "metadata": {
        "id": "za3C1p0UAC5b",
        "colab_type": "text"
      },
      "source": [
        "### High School diploma"
      ]
    },
    {
      "cell_type": "code",
      "metadata": {
        "id": "6HUEmHvwACLV",
        "colab_type": "code",
        "outputId": "0bda7d35-0a5e-4c19-b001-846d29c2428a",
        "colab": {
          "base_uri": "https://localhost:8080/",
          "height": 206
        }
      },
      "source": [
        "people = pd.read_csv('https://github.com/SDS-AAU/M1-2019/raw/master/data/people.csv', parse_dates=True)\n",
        "people.head()"
      ],
      "execution_count": 95,
      "outputs": [
        {
          "output_type": "execute_result",
          "data": {
            "text/html": [
              "<div>\n",
              "<style scoped>\n",
              "    .dataframe tbody tr th:only-of-type {\n",
              "        vertical-align: middle;\n",
              "    }\n",
              "\n",
              "    .dataframe tbody tr th {\n",
              "        vertical-align: top;\n",
              "    }\n",
              "\n",
              "    .dataframe thead th {\n",
              "        text-align: right;\n",
              "    }\n",
              "</style>\n",
              "<table border=\"1\" class=\"dataframe\">\n",
              "  <thead>\n",
              "    <tr style=\"text-align: right;\">\n",
              "      <th></th>\n",
              "      <th>Unnamed: 0</th>\n",
              "      <th>username</th>\n",
              "      <th>followers</th>\n",
              "      <th>following</th>\n",
              "      <th>work_raw</th>\n",
              "      <th>education_raw</th>\n",
              "    </tr>\n",
              "  </thead>\n",
              "  <tbody>\n",
              "    <tr>\n",
              "      <th>0</th>\n",
              "      <td>0</td>\n",
              "      <td>@lewellenmichael</td>\n",
              "      <td>1</td>\n",
              "      <td>2</td>\n",
              "      <td>Software Dev, Startup Founder, Finance, Crypto...</td>\n",
              "      <td>High School, Bachelor's Degree</td>\n",
              "    </tr>\n",
              "    <tr>\n",
              "      <th>1</th>\n",
              "      <td>1</td>\n",
              "      <td>@waylandchin</td>\n",
              "      <td>0</td>\n",
              "      <td>2</td>\n",
              "      <td>NaN</td>\n",
              "      <td>NaN</td>\n",
              "    </tr>\n",
              "    <tr>\n",
              "      <th>2</th>\n",
              "      <td>2</td>\n",
              "      <td>@karan</td>\n",
              "      <td>2</td>\n",
              "      <td>1</td>\n",
              "      <td>NaN</td>\n",
              "      <td>NaN</td>\n",
              "    </tr>\n",
              "    <tr>\n",
              "      <th>3</th>\n",
              "      <td>3</td>\n",
              "      <td>@skaboss217</td>\n",
              "      <td>0</td>\n",
              "      <td>1</td>\n",
              "      <td>NaN</td>\n",
              "      <td>NaN</td>\n",
              "    </tr>\n",
              "    <tr>\n",
              "      <th>4</th>\n",
              "      <td>4</td>\n",
              "      <td>@apwn</td>\n",
              "      <td>17</td>\n",
              "      <td>426</td>\n",
              "      <td>Web Dev</td>\n",
              "      <td>NaN</td>\n",
              "    </tr>\n",
              "  </tbody>\n",
              "</table>\n",
              "</div>"
            ],
            "text/plain": [
              "   Unnamed: 0  ...                   education_raw\n",
              "0           0  ...  High School, Bachelor's Degree\n",
              "1           1  ...                             NaN\n",
              "2           2  ...                             NaN\n",
              "3           3  ...                             NaN\n",
              "4           4  ...                             NaN\n",
              "\n",
              "[5 rows x 6 columns]"
            ]
          },
          "metadata": {
            "tags": []
          },
          "execution_count": 95
        }
      ]
    },
    {
      "cell_type": "code",
      "metadata": {
        "id": "XWWhAyA_As1p",
        "colab_type": "code",
        "colab": {}
      },
      "source": [
        "people=people.dropna(subset=['education_raw'])\n",
        "#Drops rows with NAN's i education_raw."
      ],
      "execution_count": 0,
      "outputs": []
    },
    {
      "cell_type": "code",
      "metadata": {
        "id": "dCROsiNnB73B",
        "colab_type": "code",
        "outputId": "18d6153a-4f51-4da3-de6e-0f2ea5cb23eb",
        "colab": {
          "base_uri": "https://localhost:8080/",
          "height": 35
        }
      },
      "source": [
        "people['education_raw'].str.contains('High School').sum()\n",
        "#There are 130 people who listed they have a High School diploma."
      ],
      "execution_count": 97,
      "outputs": [
        {
          "output_type": "execute_result",
          "data": {
            "text/plain": [
              "130"
            ]
          },
          "metadata": {
            "tags": []
          },
          "execution_count": 97
        }
      ]
    },
    {
      "cell_type": "code",
      "metadata": {
        "id": "buUeMqi6VNSH",
        "colab_type": "code",
        "colab": {
          "base_uri": "https://localhost:8080/",
          "height": 35
        },
        "outputId": "3e9b11d7-dbc0-4458-aef1-566475e65f81"
      },
      "source": [
        "people['education_raw'].unique()\n",
        "high_school = people['education_raw'].str.contains(\"High School\")\n",
        "bachelor = people['education_raw'].str.contains(\"Bachelor's Degree\")\n",
        "master = people['education_raw'].str.contains(\"Master's Degree\")\n",
        "people[high_school | bachelor | master].shape[0]\n",
        "#If we assume everyone one with a bachelor's or master's degree also have a High School diploma, then the number is 451."
      ],
      "execution_count": 98,
      "outputs": [
        {
          "output_type": "execute_result",
          "data": {
            "text/plain": [
              "451"
            ]
          },
          "metadata": {
            "tags": []
          },
          "execution_count": 98
        }
      ]
    },
    {
      "cell_type": "markdown",
      "metadata": {
        "id": "U1f4d6cyEUg0",
        "colab_type": "text"
      },
      "source": [
        "### Software Dev with a Master's Degree"
      ]
    },
    {
      "cell_type": "code",
      "metadata": {
        "id": "jeblwvgxEb0r",
        "colab_type": "code",
        "outputId": "595521f8-d26c-4ba7-9c8b-fdf0a9b3fc34",
        "colab": {
          "base_uri": "https://localhost:8080/",
          "height": 35
        }
      },
      "source": [
        "software_dev=people['work_raw'].str.contains('Software Dev')\n",
        "people[software_dev & master].shape[0]\n",
        "#57 people working with Software Dev have a Master's Degree."
      ],
      "execution_count": 99,
      "outputs": [
        {
          "output_type": "execute_result",
          "data": {
            "text/plain": [
              "57"
            ]
          },
          "metadata": {
            "tags": []
          },
          "execution_count": 99
        }
      ]
    },
    {
      "cell_type": "markdown",
      "metadata": {
        "id": "zPH66kT4H2aI",
        "colab_type": "text"
      },
      "source": [
        "### Master's Degree that has the highest number of followers"
      ]
    },
    {
      "cell_type": "code",
      "metadata": {
        "id": "ydcKPn2VH9GI",
        "colab_type": "code",
        "outputId": "f7bf4142-8c83-47b2-c7bb-dd2fe39560f5",
        "colab": {
          "base_uri": "https://localhost:8080/",
          "height": 81
        }
      },
      "source": [
        "people[master].sort_values(by='followers',ascending=False).head(1)\n",
        "#The person with the highest number of followers has 2182 followers.\n",
        "#The person is a Software Dev, Startup Founder and Creative."
      ],
      "execution_count": 100,
      "outputs": [
        {
          "output_type": "execute_result",
          "data": {
            "text/html": [
              "<div>\n",
              "<style scoped>\n",
              "    .dataframe tbody tr th:only-of-type {\n",
              "        vertical-align: middle;\n",
              "    }\n",
              "\n",
              "    .dataframe tbody tr th {\n",
              "        vertical-align: top;\n",
              "    }\n",
              "\n",
              "    .dataframe thead th {\n",
              "        text-align: right;\n",
              "    }\n",
              "</style>\n",
              "<table border=\"1\" class=\"dataframe\">\n",
              "  <thead>\n",
              "    <tr style=\"text-align: right;\">\n",
              "      <th></th>\n",
              "      <th>Unnamed: 0</th>\n",
              "      <th>username</th>\n",
              "      <th>followers</th>\n",
              "      <th>following</th>\n",
              "      <th>work_raw</th>\n",
              "      <th>education_raw</th>\n",
              "    </tr>\n",
              "  </thead>\n",
              "  <tbody>\n",
              "    <tr>\n",
              "      <th>2043</th>\n",
              "      <td>2043</td>\n",
              "      <td>@levelsio</td>\n",
              "      <td>2182</td>\n",
              "      <td>353</td>\n",
              "      <td>Software Dev, Startup Founder, Creative</td>\n",
              "      <td>High School, Bachelor's Degree, Master's Degree</td>\n",
              "    </tr>\n",
              "  </tbody>\n",
              "</table>\n",
              "</div>"
            ],
            "text/plain": [
              "      Unnamed: 0  ...                                    education_raw\n",
              "2043        2043  ...  High School, Bachelor's Degree, Master's Degree\n",
              "\n",
              "[1 rows x 6 columns]"
            ]
          },
          "metadata": {
            "tags": []
          },
          "execution_count": 100
        }
      ]
    },
    {
      "cell_type": "markdown",
      "metadata": {
        "id": "8iV1kaenMhlH",
        "colab_type": "text"
      },
      "source": [
        "## Trips"
      ]
    },
    {
      "cell_type": "markdown",
      "metadata": {
        "id": "Gl-AMo8EMnsM",
        "colab_type": "text"
      },
      "source": [
        "### Country with the highest number of trips"
      ]
    },
    {
      "cell_type": "code",
      "metadata": {
        "id": "Phqrz4reVUFZ",
        "colab_type": "code",
        "outputId": "f10d1376-946c-45fe-ea2f-6acd53f493c5",
        "colab": {
          "base_uri": "https://localhost:8080/",
          "height": 167
        }
      },
      "source": [
        "trips.groupby('country').count().sort_values('username', ascending=False).head(1)\n",
        "#United States with 7305 trips"
      ],
      "execution_count": 101,
      "outputs": [
        {
          "output_type": "execute_result",
          "data": {
            "text/html": [
              "<div>\n",
              "<style scoped>\n",
              "    .dataframe tbody tr th:only-of-type {\n",
              "        vertical-align: middle;\n",
              "    }\n",
              "\n",
              "    .dataframe tbody tr th {\n",
              "        vertical-align: top;\n",
              "    }\n",
              "\n",
              "    .dataframe thead th {\n",
              "        text-align: right;\n",
              "    }\n",
              "</style>\n",
              "<table border=\"1\" class=\"dataframe\">\n",
              "  <thead>\n",
              "    <tr style=\"text-align: right;\">\n",
              "      <th></th>\n",
              "      <th>Unnamed: 0</th>\n",
              "      <th>username</th>\n",
              "      <th>country_code</th>\n",
              "      <th>country_slug</th>\n",
              "      <th>date_end</th>\n",
              "      <th>date_start</th>\n",
              "      <th>latitude</th>\n",
              "      <th>longitude</th>\n",
              "      <th>place</th>\n",
              "      <th>place_slug</th>\n",
              "      <th>duration</th>\n",
              "      <th>alpha_2</th>\n",
              "      <th>region</th>\n",
              "      <th>sub_region</th>\n",
              "    </tr>\n",
              "    <tr>\n",
              "      <th>country</th>\n",
              "      <th></th>\n",
              "      <th></th>\n",
              "      <th></th>\n",
              "      <th></th>\n",
              "      <th></th>\n",
              "      <th></th>\n",
              "      <th></th>\n",
              "      <th></th>\n",
              "      <th></th>\n",
              "      <th></th>\n",
              "      <th></th>\n",
              "      <th></th>\n",
              "      <th></th>\n",
              "      <th></th>\n",
              "    </tr>\n",
              "  </thead>\n",
              "  <tbody>\n",
              "    <tr>\n",
              "      <th>United States</th>\n",
              "      <td>7305</td>\n",
              "      <td>7305</td>\n",
              "      <td>7305</td>\n",
              "      <td>7305</td>\n",
              "      <td>7305</td>\n",
              "      <td>7305</td>\n",
              "      <td>7305</td>\n",
              "      <td>7305</td>\n",
              "      <td>7305</td>\n",
              "      <td>7305</td>\n",
              "      <td>7305</td>\n",
              "      <td>7305</td>\n",
              "      <td>7305</td>\n",
              "      <td>7305</td>\n",
              "    </tr>\n",
              "  </tbody>\n",
              "</table>\n",
              "</div>"
            ],
            "text/plain": [
              "               Unnamed: 0  username  country_code  ...  alpha_2  region  sub_region\n",
              "country                                            ...                             \n",
              "United States        7305      7305          7305  ...     7305    7305        7305\n",
              "\n",
              "[1 rows x 14 columns]"
            ]
          },
          "metadata": {
            "tags": []
          },
          "execution_count": 101
        }
      ]
    },
    {
      "cell_type": "markdown",
      "metadata": {
        "id": "YIt_yPNNYcr0",
        "colab_type": "text"
      },
      "source": [
        "### Country with the highest number of trips in 2017 (start)"
      ]
    },
    {
      "cell_type": "code",
      "metadata": {
        "id": "NK1_Ed4NYlZ4",
        "colab_type": "code",
        "outputId": "e418ef35-a737-4159-c6ee-2bc46889b1e2",
        "colab": {
          "base_uri": "https://localhost:8080/",
          "height": 167
        }
      },
      "source": [
        "trips_2017 = trips['date_start'].dt.year==2017\n",
        "trips[trips_2017].groupby('country').count().sort_values('username', ascending=False).head(1)\n",
        "#Also United States with 1857 trips"
      ],
      "execution_count": 102,
      "outputs": [
        {
          "output_type": "execute_result",
          "data": {
            "text/html": [
              "<div>\n",
              "<style scoped>\n",
              "    .dataframe tbody tr th:only-of-type {\n",
              "        vertical-align: middle;\n",
              "    }\n",
              "\n",
              "    .dataframe tbody tr th {\n",
              "        vertical-align: top;\n",
              "    }\n",
              "\n",
              "    .dataframe thead th {\n",
              "        text-align: right;\n",
              "    }\n",
              "</style>\n",
              "<table border=\"1\" class=\"dataframe\">\n",
              "  <thead>\n",
              "    <tr style=\"text-align: right;\">\n",
              "      <th></th>\n",
              "      <th>Unnamed: 0</th>\n",
              "      <th>username</th>\n",
              "      <th>country_code</th>\n",
              "      <th>country_slug</th>\n",
              "      <th>date_end</th>\n",
              "      <th>date_start</th>\n",
              "      <th>latitude</th>\n",
              "      <th>longitude</th>\n",
              "      <th>place</th>\n",
              "      <th>place_slug</th>\n",
              "      <th>duration</th>\n",
              "      <th>alpha_2</th>\n",
              "      <th>region</th>\n",
              "      <th>sub_region</th>\n",
              "    </tr>\n",
              "    <tr>\n",
              "      <th>country</th>\n",
              "      <th></th>\n",
              "      <th></th>\n",
              "      <th></th>\n",
              "      <th></th>\n",
              "      <th></th>\n",
              "      <th></th>\n",
              "      <th></th>\n",
              "      <th></th>\n",
              "      <th></th>\n",
              "      <th></th>\n",
              "      <th></th>\n",
              "      <th></th>\n",
              "      <th></th>\n",
              "      <th></th>\n",
              "    </tr>\n",
              "  </thead>\n",
              "  <tbody>\n",
              "    <tr>\n",
              "      <th>United States</th>\n",
              "      <td>1857</td>\n",
              "      <td>1857</td>\n",
              "      <td>1857</td>\n",
              "      <td>1857</td>\n",
              "      <td>1857</td>\n",
              "      <td>1857</td>\n",
              "      <td>1857</td>\n",
              "      <td>1857</td>\n",
              "      <td>1857</td>\n",
              "      <td>1857</td>\n",
              "      <td>1857</td>\n",
              "      <td>1857</td>\n",
              "      <td>1857</td>\n",
              "      <td>1857</td>\n",
              "    </tr>\n",
              "  </tbody>\n",
              "</table>\n",
              "</div>"
            ],
            "text/plain": [
              "               Unnamed: 0  username  country_code  ...  alpha_2  region  sub_region\n",
              "country                                            ...                             \n",
              "United States        1857      1857          1857  ...     1857    1857        1857\n",
              "\n",
              "[1 rows x 14 columns]"
            ]
          },
          "metadata": {
            "tags": []
          },
          "execution_count": 102
        }
      ]
    },
    {
      "cell_type": "markdown",
      "metadata": {
        "id": "NOtHmMcBaAT_",
        "colab_type": "text"
      },
      "source": [
        "### Country in 'Eastern Asia' where travellers spent on average least time when going there? \n",
        "Provide a visualization."
      ]
    },
    {
      "cell_type": "code",
      "metadata": {
        "id": "L-3o_ccKaYZe",
        "colab_type": "code",
        "outputId": "5da4d683-849b-4451-e7cc-010abc2985ae",
        "colab": {
          "base_uri": "https://localhost:8080/",
          "height": 112
        }
      },
      "source": [
        "trips_EA = trips['sub_region']=='Eastern Asia'\n",
        "trips[trips_EA].groupby('country').mean().sort_values('duration', ascending=False).tail(1)\n",
        "#North Korea with 4 days."
      ],
      "execution_count": 103,
      "outputs": [
        {
          "output_type": "execute_result",
          "data": {
            "text/html": [
              "<div>\n",
              "<style scoped>\n",
              "    .dataframe tbody tr th:only-of-type {\n",
              "        vertical-align: middle;\n",
              "    }\n",
              "\n",
              "    .dataframe tbody tr th {\n",
              "        vertical-align: top;\n",
              "    }\n",
              "\n",
              "    .dataframe thead th {\n",
              "        text-align: right;\n",
              "    }\n",
              "</style>\n",
              "<table border=\"1\" class=\"dataframe\">\n",
              "  <thead>\n",
              "    <tr style=\"text-align: right;\">\n",
              "      <th></th>\n",
              "      <th>Unnamed: 0</th>\n",
              "      <th>latitude</th>\n",
              "      <th>longitude</th>\n",
              "      <th>duration</th>\n",
              "    </tr>\n",
              "    <tr>\n",
              "      <th>country</th>\n",
              "      <th></th>\n",
              "      <th></th>\n",
              "      <th></th>\n",
              "      <th></th>\n",
              "    </tr>\n",
              "  </thead>\n",
              "  <tbody>\n",
              "    <tr>\n",
              "      <th>North Korea</th>\n",
              "      <td>32304.888889</td>\n",
              "      <td>39.111111</td>\n",
              "      <td>124.888889</td>\n",
              "      <td>4.0</td>\n",
              "    </tr>\n",
              "  </tbody>\n",
              "</table>\n",
              "</div>"
            ],
            "text/plain": [
              "               Unnamed: 0   latitude   longitude  duration\n",
              "country                                                   \n",
              "North Korea  32304.888889  39.111111  124.888889       4.0"
            ]
          },
          "metadata": {
            "tags": []
          },
          "execution_count": 103
        }
      ]
    },
    {
      "cell_type": "code",
      "metadata": {
        "id": "TKJeW6PmbXpl",
        "colab_type": "code",
        "outputId": "52df30b9-b142-4b26-b9cf-96e72a171e32",
        "colab": {
          "base_uri": "https://localhost:8080/",
          "height": 309
        }
      },
      "source": [
        "#Visualization\n",
        "import matplotlib.pyplot as plt\n",
        "data_for_plot=trips[trips_EA].groupby('country').mean()['duration']\n",
        "plt.plot(data_for_plot)\n",
        "plt.xticks(rotation=45)\n",
        "plt.ylabel('Mean Duration')\n",
        "plt.show()"
      ],
      "execution_count": 104,
      "outputs": [
        {
          "output_type": "display_data",
          "data": {
            "image/png": "[encoded data removed]",
            "text/plain": [
              "<Figure size 432x288 with 1 Axes>"
            ]
          },
          "metadata": {
            "tags": []
          }
        }
      ]
    },
    {
      "cell_type": "markdown",
      "metadata": {
        "id": "M6hr7npNeqJm",
        "colab_type": "text"
      },
      "source": [
        "### Do nomads that indicate working in “Software Dev” tend to have shorter or longer trips on average?"
      ]
    },
    {
      "cell_type": "code",
      "metadata": {
        "id": "dwan3nHEeuyp",
        "colab_type": "code",
        "colab": {}
      },
      "source": [
        "data=pd.merge(trips, people, on='username', how='inner')"
      ],
      "execution_count": 0,
      "outputs": []
    },
    {
      "cell_type": "code",
      "metadata": {
        "id": "vtrMKWzTe8En",
        "colab_type": "code",
        "outputId": "b3df5cbb-6245-4578-e1ea-cbd1db350af6",
        "colab": {
          "base_uri": "https://localhost:8080/",
          "height": 109
        }
      },
      "source": [
        "data_work=data.dropna(subset=['work_raw'])\n",
        "soft_dev=data_work['work_raw'].str.contains('Software Dev')\n",
        "print('Mean duration for Software Devs:')\n",
        "print(data_work[soft_dev].mean()['duration'])\n",
        "print('---------------------')\n",
        "print('Mean duration for non Software Devs:')\n",
        "print(data_work[~soft_dev].mean()['duration'])\n",
        "#Software Devs spend slightly more time on their trips."
      ],
      "execution_count": 109,
      "outputs": [
        {
          "output_type": "stream",
          "text": [
            "Mean duration for Software Devs:\n",
            "34.937417072091996\n",
            "---------------------\n",
            "Mean duration for non Software Devs:\n",
            "34.850766255021576\n"
          ],
          "name": "stdout"
        }
      ]
    },
    {
      "cell_type": "markdown",
      "metadata": {
        "id": "x3C9StrWxP2A",
        "colab_type": "text"
      },
      "source": [
        "### Visualize over-time median trip duration overall (bonus: and split by world-region).\n",
        "Hint: Python – resample by week (‘W’) and calculate the size of observations."
      ]
    },
    {
      "cell_type": "code",
      "metadata": {
        "id": "E0EOGOPXcFpk",
        "colab_type": "code",
        "colab": {}
      },
      "source": [
        "data['week'] = data['date_start'].dt.week\n",
        "#Nice to have week as a seperate collum."
      ],
      "execution_count": 0,
      "outputs": []
    },
    {
      "cell_type": "code",
      "metadata": {
        "id": "8C-CVX-rxWp1",
        "colab_type": "code",
        "outputId": "7425f471-163a-4ea4-c101-5d93797c7dc1",
        "colab": {
          "base_uri": "https://localhost:8080/",
          "height": 289
        }
      },
      "source": [
        "#Plotted to visualize the median duration of trips begun i a given week.\n",
        "data_for_plot2=data.groupby('week').median()['duration']\n",
        "plt.plot(data_for_plot2)\n",
        "plt.xticks(rotation=45)\n",
        "plt.xlabel('Week')\n",
        "plt.ylabel('Median Duration')\n",
        "plt.show()"
      ],
      "execution_count": 107,
      "outputs": [
        {
          "output_type": "display_data",
          "data": {
            "image/png": "[encoded data removed]",
            "text/plain": [
              "<Figure size 432x288 with 1 Axes>"
            ]
          },
          "metadata": {
            "tags": []
          }
        }
      ]
    },
    {
      "cell_type": "code",
      "metadata": {
        "colab_type": "code",
        "outputId": "ef61be31-e0dc-4b94-d748-ae384f2e7278",
        "id": "uXLTmdG8YEaS",
        "colab": {
          "base_uri": "https://localhost:8080/",
          "height": 624
        }
      },
      "source": [
        "#Plotted to visualize the median duration of trips begun i a given week, per world-region.\n",
        "data_for_plot3=data.groupby(['week','region']).median()['duration']\n",
        "ax=data_for_plot3.unstack(1).plot(kind='bar', subplots=True, figsize=(10,10), legend=False)\n",
        "ax[0].set_ylabel('Median Duration')\n",
        "ax[1].set_ylabel('Median Duration')\n",
        "ax[2].set_ylabel('Median Duration')\n",
        "ax[3].set_ylabel('Median Duration')\n",
        "ax[4].set_ylabel('Median Duration')\n",
        "plt.show()"
      ],
      "execution_count": 137,
      "outputs": [
        {
          "output_type": "display_data",
          "data": {
            "image/png": "[encoded data removed]",
            "text/plain": [
              "<Figure size 720x720 with 5 Axes>"
            ]
          },
          "metadata": {
            "tags": []
          }
        }
      ]
    }
  ]
}